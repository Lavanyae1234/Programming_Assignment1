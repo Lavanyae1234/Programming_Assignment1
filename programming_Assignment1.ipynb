{
 "cells": [
  {
   "cell_type": "code",
   "execution_count": 3,
   "id": "8b37561a",
   "metadata": {},
   "outputs": [
    {
     "name": "stdout",
     "output_type": "stream",
     "text": [
      "Hello Python\n"
     ]
    }
   ],
   "source": [
    "print(\"Hello Python\")"
   ]
  },
  {
   "cell_type": "code",
   "execution_count": 5,
   "id": "fc5ebbc3",
   "metadata": {},
   "outputs": [
    {
     "data": {
      "text/plain": [
       "7"
      ]
     },
     "execution_count": 5,
     "metadata": {},
     "output_type": "execute_result"
    }
   ],
   "source": [
    "a=3\n",
    "b=a+1\n",
    "a+b"
   ]
  },
  {
   "cell_type": "code",
   "execution_count": 6,
   "id": "c51aba7a",
   "metadata": {},
   "outputs": [
    {
     "data": {
      "text/plain": [
       "2.0"
      ]
     },
     "execution_count": 6,
     "metadata": {},
     "output_type": "execute_result"
    }
   ],
   "source": [
    "c=4\n",
    "d=8\n",
    "d/c"
   ]
  },
  {
   "cell_type": "code",
   "execution_count": 7,
   "id": "a3f67df2",
   "metadata": {},
   "outputs": [
    {
     "name": "stdout",
     "output_type": "stream",
     "text": [
      "Enter the first side: 2\n",
      "Enter the second side: 3\n",
      "Enter the third side: 4\n",
      "The area of the traingle is:%f 4.21875\n"
     ]
    }
   ],
   "source": [
    "#python program to find the area of a traingle#\n",
    "a=float(input(\"Enter the first side: \"))\n",
    "b=float(input(\"Enter the second side: \"))\n",
    "c=float(input(\"Enter the third side: \"))\n",
    "s = (a+b+c)/2\n",
    "area=(s*(s-a)*(s-b)*(s-c))/2\n",
    "print(\"The area of the traingle is:%f\", area)"
   ]
  },
  {
   "cell_type": "code",
   "execution_count": 8,
   "id": "6831658b",
   "metadata": {},
   "outputs": [
    {
     "name": "stdout",
     "output_type": "stream",
     "text": [
      "Enter the length of a traingle: 4\n",
      "Enter the height of a traingle:  6\n",
      "The area of the traingle is %f 12.0\n"
     ]
    }
   ],
   "source": [
    "#python program to find area of a triangle using length and height#\n",
    "a=float(input(\"Enter the length of a traingle: \"))\n",
    "b=float(input(\"Enter the height of a traingle:  \"))\n",
    "area= (a*b)/2\n",
    "print(\"The area of the traingle is %f\", area)"
   ]
  },
  {
   "cell_type": "code",
   "execution_count": 9,
   "id": "93bdf06f",
   "metadata": {},
   "outputs": [
    {
     "name": "stdout",
     "output_type": "stream",
     "text": [
      "x=  10\n",
      "y=  5\n"
     ]
    }
   ],
   "source": [
    "x=5\n",
    "y=10\n",
    "x,y=y,x\n",
    "print(\"x= \",x)\n",
    "print(\"y= \",y)"
   ]
  },
  {
   "cell_type": "code",
   "execution_count": 10,
   "id": "635c70d9",
   "metadata": {},
   "outputs": [
    {
     "name": "stdout",
     "output_type": "stream",
     "text": [
      "Enter value of x: 5\n",
      "Enter the value of y: 10\n"
     ]
    }
   ],
   "source": [
    "x=input('Enter value of x: ')\n",
    "y=input('Enter the value of y: ')\n",
    "temp=x\n",
    "x=y\n",
    "y=temp"
   ]
  },
  {
   "cell_type": "code",
   "execution_count": 11,
   "id": "fe202744",
   "metadata": {},
   "outputs": [
    {
     "data": {
      "text/plain": [
       "'10'"
      ]
     },
     "execution_count": 11,
     "metadata": {},
     "output_type": "execute_result"
    }
   ],
   "source": [
    "x"
   ]
  },
  {
   "cell_type": "code",
   "execution_count": 12,
   "id": "6033d112",
   "metadata": {},
   "outputs": [
    {
     "data": {
      "text/plain": [
       "'5'"
      ]
     },
     "execution_count": 12,
     "metadata": {},
     "output_type": "execute_result"
    }
   ],
   "source": [
    "y"
   ]
  },
  {
   "cell_type": "code",
   "execution_count": 13,
   "id": "631647aa",
   "metadata": {},
   "outputs": [
    {
     "name": "stdout",
     "output_type": "stream",
     "text": [
      "generated random number is :  87\n"
     ]
    }
   ],
   "source": [
    "import random\n",
    "print('generated random number is : ', random.randint(1,100))"
   ]
  },
  {
   "cell_type": "code",
   "execution_count": null,
   "id": "395beacc",
   "metadata": {},
   "outputs": [],
   "source": []
  }
 ],
 "metadata": {
  "kernelspec": {
   "display_name": "Python 3 (ipykernel)",
   "language": "python",
   "name": "python3"
  },
  "language_info": {
   "codemirror_mode": {
    "name": "ipython",
    "version": 3
   },
   "file_extension": ".py",
   "mimetype": "text/x-python",
   "name": "python",
   "nbconvert_exporter": "python",
   "pygments_lexer": "ipython3",
   "version": "3.9.12"
  }
 },
 "nbformat": 4,
 "nbformat_minor": 5
}
